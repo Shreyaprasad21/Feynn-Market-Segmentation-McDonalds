{
  "cells": [
    {
      "cell_type": "markdown",
      "metadata": {},
      "source": [
        "## Replication of McDonalds Case Study in Python \n",
        "## Presented by Shreya Prasad"
      ]
    },
    {
      "cell_type": "markdown",
      "metadata": {
        "id": "1P-t8nuFJBTK"
      },
      "source": [
        "IMPORTING THE LIBRARIES OR DATA ANALYSIS AND VISUALIZATION"
      ]
    },
    {
      "cell_type": "code",
      "execution_count": null,
      "metadata": {
        "id": "R4MI2GJ5KVFM"
      },
      "outputs": [],
      "source": [
        "import pandas as pd\n",
        "import numpy as np\n",
        "import matplotlib.pyplot as plt\n",
        "%matplotlib inline\n",
        "import seaborn as sns"
      ]
    },
    {
      "cell_type": "markdown",
      "metadata": {
        "id": "LVwfGqK1J5v8"
      },
      "source": [
        "Importing the data by providing the path to McDonald's dataset "
      ]
    },
    {
      "cell_type": "code",
      "execution_count": null,
      "metadata": {
        "id": "otFSgT3DKToW"
      },
      "outputs": [],
      "source": [
        "data = pd.read_csv(\"C:\\\\Users\\\\sp125\\\\OneDrive\\\\Desktop\\\\feynn docs\\\\Replication-of-McDonalds-Case-Study-in-Python\\\\mcdonalds.csv\")"
      ]
    },
    {
      "cell_type": "markdown",
      "metadata": {
        "id": "DMLclvLSK4pM"
      },
      "source": [
        "Exploring the first 5 elements of the dataset"
      ]
    },
    {
      "cell_type": "code",
      "execution_count": null,
      "metadata": {
        "colab": {
          "base_uri": "https://localhost:8080/",
          "height": 206
        },
        "id": "vS0JkrYHK-cr",
        "outputId": "1d2e28ae-2bab-4a6a-bbbe-3a07d37e20d7"
      },
      "outputs": [],
      "source": [
        "data.head()"
      ]
    },
    {
      "cell_type": "code",
      "execution_count": null,
      "metadata": {
        "colab": {
          "base_uri": "https://localhost:8080/"
        },
        "id": "A8w7iLMKLSFS",
        "outputId": "69e72e5a-3224-415a-e7a5-1ae7c79804e1"
      },
      "outputs": [],
      "source": [
        "data.info()"
      ]
    },
    {
      "cell_type": "code",
      "execution_count": null,
      "metadata": {
        "colab": {
          "base_uri": "https://localhost:8080/"
        },
        "id": "xVOBQpadMjM8",
        "outputId": "ab35522e-31c3-45de-ebb6-79b91a1d4e2a"
      },
      "outputs": [],
      "source": [
        "data.isna().sum()\n",
        "data.isnull().sum()"
      ]
    },
    {
      "cell_type": "code",
      "execution_count": null,
      "metadata": {
        "colab": {
          "base_uri": "https://localhost:8080/"
        },
        "id": "0DxEs3yGM-R6",
        "outputId": "599e9ca4-0715-43ad-b854-df711029c1c9"
      },
      "outputs": [],
      "source": [
        "data['yummy'].value_counts()\n",
        "data['convenient'].value_counts()\n",
        "data['fattening'].value_counts()\n",
        "data['greasy'].value_counts()\n",
        "data['fast'].value_counts()\n",
        "data['cheap'].value_counts()\n",
        "data['tasty'].value_counts()\n",
        "data['expensive'].value_counts()\n",
        "data['healthy'].value_counts()\n",
        "data['disgusting'].value_counts()"
      ]
    },
    {
      "cell_type": "code",
      "execution_count": null,
      "metadata": {
        "id": "C6Vq7Rb6NsNa"
      },
      "outputs": [],
      "source": [
        "data[\"yummy\"] = data[\"yummy\"].replace({'Yes':1, 'No':0})\n",
        "data[\"convenient\"] = data[\"convenient\"].replace({'Yes':1, 'No':0})\n",
        "data[\"spicy\"] = data[\"spicy\"].replace({'Yes':1, 'No':0})\n",
        "data[\"fattening\"] = data[\"fattening\"].replace({'Yes':1, 'No':0})\n",
        "data[\"greasy\"] = data[\"greasy\"].replace({'Yes':1, 'No':0})\n",
        "data[\"fast\"] = data[\"fast\"].replace({'Yes':1, 'No':0})\n",
        "data[\"cheap\"] = data[\"cheap\"].replace({'Yes':1, 'No':0})\n",
        "data[\"tasty\"] = data[\"tasty\"].replace({'Yes':1, 'No':0})\n",
        "data[\"expensive\"] = data[\"expensive\"].replace({'Yes':1, 'No':0})\n",
        "data[\"healthy\"] = data[\"healthy\"].replace({'Yes':1, 'No':0})\n",
        "data[\"disgusting\"] = data[\"disgusting\"].replace({'Yes':1, 'No':0})"
      ]
    },
    {
      "cell_type": "code",
      "execution_count": null,
      "metadata": {
        "colab": {
          "base_uri": "https://localhost:8080/",
          "height": 206
        },
        "id": "rE7dbTamOJOC",
        "outputId": "21516ef0-bbc9-47ef-f453-4ee7f1db8518"
      },
      "outputs": [],
      "source": [
        "data.head()"
      ]
    },
    {
      "cell_type": "code",
      "execution_count": null,
      "metadata": {
        "colab": {
          "base_uri": "https://localhost:8080/",
          "height": 206
        },
        "id": "CFvtiLGAOQs2",
        "outputId": "b212865c-aa40-453b-9638-bc5cb3b56a94"
      },
      "outputs": [],
      "source": [
        "data1 = data.iloc[:,0:11]\n",
        "data1.head()"
      ]
    },
    {
      "cell_type": "code",
      "execution_count": null,
      "metadata": {
        "id": "yoDwVls4O_om"
      },
      "outputs": [],
      "source": [
        "from sklearn.preprocessing import StandardScaler\n",
        "sc = StandardScaler()\n",
        "sc_df = sc.fit_transform(data1)"
      ]
    },
    {
      "cell_type": "code",
      "execution_count": null,
      "metadata": {
        "colab": {
          "base_uri": "https://localhost:8080/",
          "height": 206
        },
        "id": "XPATfCnEPFXw",
        "outputId": "2a707b04-228f-4b19-f644-825703c56fa3"
      },
      "outputs": [],
      "source": [
        "from sklearn.decomposition import PCA\n",
        "pca = PCA(n_components=11)\n",
        "princ_compo = pca.fit_transform(sc_df)\n",
        "pca_df = pd.DataFrame(data=princ_compo, columns=[\"PCA1\", \"PCA2\", \"PCA3\", \"PCA4\", \"PCA5\", \"PCA6\", \"PCA7\", \"PCA8\", \"PCA9\", \"PCA10\", \"PCA11\",])\n",
        "pca_df.head()"
      ]
    },
    {
      "cell_type": "code",
      "execution_count": null,
      "metadata": {
        "colab": {
          "base_uri": "https://localhost:8080/",
          "height": 296
        },
        "id": "VPGyPFSoQJEB",
        "outputId": "48bd60ea-819e-41e7-ac20-8e2c5d591bb4"
      },
      "outputs": [],
      "source": [
        "sns.scatterplot(data=pca_df, x=\"PCA1\", y=\"PCA2\")"
      ]
    },
    {
      "cell_type": "markdown",
      "metadata": {
        "id": "GnRNgqwtRD03"
      },
      "source": [
        "Extracting the Segments from the above extracted data processes"
      ]
    },
    {
      "cell_type": "code",
      "execution_count": null,
      "metadata": {
        "colab": {
          "base_uri": "https://localhost:8080/",
          "height": 393
        },
        "id": "5EK6Z_tHRJMt",
        "outputId": "887b79b3-9a3f-4f5f-e156-0503996c829a"
      },
      "outputs": [],
      "source": [
        "from sklearn.cluster import KMeans\n",
        "from yellowbrick.cluster import KElbowVisualizer\n",
        "\n",
        "kmeans_model = KMeans()\n",
        "visualizer = KElbowVisualizer(kmeans_model, k=(1,10))\n",
        "visualizer.fit(sc_df)        \n",
        "visualizer.show()     "
      ]
    },
    {
      "cell_type": "code",
      "execution_count": null,
      "metadata": {
        "id": "Mr7skgfyXM4F"
      },
      "outputs": [],
      "source": [
        "kmeans = KMeans(4)\n",
        "kmeans.fit_predict(sc_df)\n",
        "pca_df_kmeans = pd.concat([pca_df, pd.DataFrame({'cluster':kmeans.labels_})], axis=1)"
      ]
    },
    {
      "cell_type": "code",
      "execution_count": null,
      "metadata": {
        "colab": {
          "base_uri": "https://localhost:8080/",
          "height": 620
        },
        "id": "1l4fY5ubX09Y",
        "outputId": "9206d4d3-476f-45ea-dfce-e078ba122f40"
      },
      "outputs": [],
      "source": [
        "plt.figure(figsize=(10,10))\n",
        "dia = sns.scatterplot(x=\"PCA1\", y=\"PCA2\", hue=\"cluster\", data=pca_df_kmeans, palette=['red', 'blue', 'green', 'yellow'])\n",
        "plt.title(\"KMeans Clustering\")\n",
        "plt.show()"
      ]
    },
    {
      "cell_type": "code",
      "execution_count": null,
      "metadata": {
        "id": "qsC5-PUmYnmf"
      },
      "outputs": [],
      "source": [
        "kmeans = KMeans(4)\n",
        "kmeans.fit_predict(sc_df)\n",
        "pca_df_kmeans1 = pd.concat([data1,pd.DataFrame({'cluster':kmeans.labels_})], axis=1)"
      ]
    },
    {
      "cell_type": "code",
      "execution_count": null,
      "metadata": {
        "colab": {
          "base_uri": "https://localhost:8080/",
          "height": 378
        },
        "id": "nDfklG3YYz8U",
        "outputId": "64c7f2e9-eb7b-4eb8-dbd7-c42ec0169722"
      },
      "outputs": [],
      "source": [
        "sns.countplot(x ='cluster', data = pca_df_kmeans1, palette = \"Set1\")"
      ]
    },
    {
      "cell_type": "markdown",
      "metadata": {
        "id": "pcZRbgQlaF0m"
      },
      "source": [
        "Profiling the Segments from provided McDonald's datasets and providing the clustering to the following"
      ]
    },
    {
      "cell_type": "code",
      "execution_count": null,
      "metadata": {
        "id": "1T2P5dDjaNhx"
      },
      "outputs": [],
      "source": [
        "cluster1 = pca_df_kmeans1[pca_df_kmeans1[\"cluster\"]==0]\n",
        "cluster2 = pca_df_kmeans1[pca_df_kmeans1[\"cluster\"]==1]\n",
        "cluster3 = pca_df_kmeans1[pca_df_kmeans1[\"cluster\"]==2]\n",
        "cluster4 = pca_df_kmeans1[pca_df_kmeans1[\"cluster\"]==3]"
      ]
    },
    {
      "cell_type": "code",
      "execution_count": null,
      "metadata": {
        "colab": {
          "base_uri": "https://localhost:8080/",
          "height": 362
        },
        "id": "ofrxeoqRavfT",
        "outputId": "3403b884-cbec-476c-b0f4-94013d7e14b6"
      },
      "outputs": [],
      "source": [
        "cluster1.head()\n",
        "dia = sns.barplot(data=cluster1[['yummy', 'convenient', 'spicy', 'fattening', 'greasy', 'fast', 'cheap', 'tasty', 'expensive', 'healthy', 'disgusting']], ci=None)\n",
        "plt.title('Analysis of Cluster-1')\n",
        "plt.show()"
      ]
    },
    {
      "cell_type": "code",
      "execution_count": null,
      "metadata": {
        "colab": {
          "base_uri": "https://localhost:8080/",
          "height": 362
        },
        "id": "bKJsTPPjbIta",
        "outputId": "ac4b814c-573d-42e7-a1c7-945f27e731c7"
      },
      "outputs": [],
      "source": [
        "cluster2.head()\n",
        "dia = sns.barplot(data=cluster2[['yummy', 'convenient', 'spicy', 'fattening', 'greasy', 'fast', 'cheap', 'tasty', 'expensive', 'healthy', 'disgusting']], ci=None)\n",
        "plt.title('Analysis of Cluster-2')\n",
        "plt.show()"
      ]
    },
    {
      "cell_type": "code",
      "execution_count": null,
      "metadata": {
        "colab": {
          "base_uri": "https://localhost:8080/",
          "height": 362
        },
        "id": "KaZ4IcQDbJjC",
        "outputId": "b38c7527-5750-4959-d6ce-fc8a0b4d03f3"
      },
      "outputs": [],
      "source": [
        "cluster3.head()\n",
        "dia = sns.barplot(data=cluster3[['yummy', 'convenient', 'spicy', 'fattening', 'greasy', 'fast', 'cheap', 'tasty', 'expensive', 'healthy', 'disgusting']], ci=None)\n",
        "plt.title('Analysis of Cluster-3')\n",
        "plt.show()"
      ]
    },
    {
      "cell_type": "code",
      "execution_count": null,
      "metadata": {
        "colab": {
          "base_uri": "https://localhost:8080/",
          "height": 362
        },
        "id": "3t8TPS-ubKiP",
        "outputId": "d58a4f8f-7834-480f-ecaa-5a3105fd4b99"
      },
      "outputs": [],
      "source": [
        "cluster4.head()\n",
        "dia = sns.barplot(data=cluster4[['yummy', 'convenient', 'spicy', 'fattening', 'greasy', 'fast', 'cheap', 'tasty', 'expensive', 'healthy', 'disgusting']], ci=None)\n",
        "plt.title('Analysis of Cluster-4')\n",
        "plt.show()"
      ]
    },
    {
      "cell_type": "markdown",
      "metadata": {
        "id": "RZwuaQw8b37J"
      },
      "source": [
        "Describing the Segments of the dataset"
      ]
    },
    {
      "cell_type": "code",
      "execution_count": null,
      "metadata": {
        "colab": {
          "base_uri": "https://localhost:8080/",
          "height": 206
        },
        "id": "FdTo3cAwb7ON",
        "outputId": "95655c3e-78d2-4427-97cb-b61cf5720c7e"
      },
      "outputs": [],
      "source": [
        "data_new= pd.concat([data,pd.DataFrame({'cluster':kmeans.labels_})],axis=1)\n",
        "data_new.head()"
      ]
    },
    {
      "cell_type": "code",
      "execution_count": null,
      "metadata": {
        "colab": {
          "base_uri": "https://localhost:8080/"
        },
        "id": "1n0Gj7y5gD1N",
        "outputId": "1a0ac763-4649-404b-a7d6-88ba1422a53d"
      },
      "outputs": [],
      "source": [
        "data_new['VisitFrequency'].value_counts()"
      ]
    },
    {
      "cell_type": "code",
      "execution_count": null,
      "metadata": {
        "id": "Xk71pBxygJia"
      },
      "outputs": [],
      "source": [
        "data_new[\"VisitFrequency\"]= data_new[\"VisitFrequency\"].replace({'Never':0, 'Once a year':1, 'Every three months':2, 'Once a month':3, 'Once a week':4, 'Never':5, 'More than once a week':6})"
      ]
    },
    {
      "cell_type": "code",
      "execution_count": null,
      "metadata": {
        "colab": {
          "base_uri": "https://localhost:8080/"
        },
        "id": "lOM4kZFsguDE",
        "outputId": "234f434b-3a4a-45aa-edb8-93327b5d95b9"
      },
      "outputs": [],
      "source": [
        "data_new['Like'].value_counts()"
      ]
    },
    {
      "cell_type": "code",
      "execution_count": null,
      "metadata": {
        "id": "d507ovbkgw1M"
      },
      "outputs": [],
      "source": [
        "data_new[\"Like\"]= data_new[\"Like\"].replace({'I hate it!-5':0, '-4':1, '-3':2, '-2':3, '-1':4, '0':5, '+1':6, '+2':7, '+3':8, '+4':9, 'I love it!+5':10})"
      ]
    },
    {
      "cell_type": "code",
      "execution_count": null,
      "metadata": {
        "colab": {
          "base_uri": "https://localhost:8080/"
        },
        "id": "trEiHpNJh1oy",
        "outputId": "869756ea-2de9-420a-cdd1-b8d7baad8734"
      },
      "outputs": [],
      "source": [
        "data_new['Gender'].value_counts()"
      ]
    },
    {
      "cell_type": "code",
      "execution_count": null,
      "metadata": {
        "id": "P9ltwoXmh8HO"
      },
      "outputs": [],
      "source": [
        "data_new[\"Gender\"]= data_new[\"Gender\"].replace({'Female':0, 'Male':1})"
      ]
    },
    {
      "cell_type": "code",
      "execution_count": null,
      "metadata": {
        "colab": {
          "base_uri": "https://localhost:8080/",
          "height": 206
        },
        "id": "ilTtQh9viB0w",
        "outputId": "629a859d-66c2-48c8-eda8-03eb88f47e8d"
      },
      "outputs": [],
      "source": [
        "data_new.head()"
      ]
    },
    {
      "cell_type": "code",
      "execution_count": null,
      "metadata": {
        "colab": {
          "base_uri": "https://localhost:8080/",
          "height": 362
        },
        "id": "v4OTiz4ciE0I",
        "outputId": "8e4fe8b9-0b65-416e-df0a-e7ce8174ee59"
      },
      "outputs": [],
      "source": [
        "from statsmodels.graphics.mosaicplot import mosaic\n",
        "mosaic(data_new, ['Like','cluster'],title='Like V/S Cluster')\n",
        "plt.show()"
      ]
    },
    {
      "cell_type": "code",
      "execution_count": null,
      "metadata": {
        "colab": {
          "base_uri": "https://localhost:8080/",
          "height": 362
        },
        "id": "M18TlxRwiKni",
        "outputId": "db1d49ad-8051-4cae-cd29-b0a19ecf4f34"
      },
      "outputs": [],
      "source": [
        "mosaic(data_new, ['Gender','cluster'],title='Gender V/S Cluster')\n",
        "plt.show()"
      ]
    },
    {
      "cell_type": "code",
      "execution_count": null,
      "metadata": {
        "colab": {
          "base_uri": "https://localhost:8080/",
          "height": 361
        },
        "id": "HLxCYDeWilNs",
        "outputId": "5ebe9d5f-9398-4aa0-a957-98623292b0c5"
      },
      "outputs": [],
      "source": [
        "sns.boxplot(x=data_new['cluster'], y=data_new['Age'])\n",
        "plt.show()"
      ]
    },
    {
      "cell_type": "markdown",
      "metadata": {
        "id": "TCmegezOmsj-"
      },
      "source": [
        "Select the Target Segments from the following Dataset"
      ]
    },
    {
      "cell_type": "code",
      "execution_count": null,
      "metadata": {
        "id": "_1-KM9i0m553"
      },
      "outputs": [],
      "source": [
        "from sklearn.model_selection import train_test_split\n",
        "X = data_new.drop(['cluster'],axis=1)\n",
        "Y = data_new[['cluster']]\n",
        "X_train, X_test, Y_train, Y_test = train_test_split(X, Y, test_size=0.2)"
      ]
    },
    {
      "cell_type": "code",
      "execution_count": null,
      "metadata": {
        "id": "xWFHmgQ2nlZV"
      },
      "outputs": [],
      "source": [
        "from sklearn.tree import DecisionTreeClassifier\n",
        "classifier = DecisionTreeClassifier(random_state = 0)\n",
        "model = classifier.fit(X, Y)"
      ]
    },
    {
      "cell_type": "code",
      "execution_count": null,
      "metadata": {
        "colab": {
          "base_uri": "https://localhost:8080/",
          "height": 999
        },
        "id": "eIN7j6QroWQd",
        "outputId": "ac6260b3-6c51-47ad-afaa-3b9274542d13"
      },
      "outputs": [],
      "source": [
        "from sklearn import tree\n",
        "dia = plt.figure(figsize=(25,20))\n",
        "_ = tree.plot_tree(classifier, filled=True)"
      ]
    },
    {
      "cell_type": "markdown",
      "metadata": {
        "id": "mXi0op04paQD"
      },
      "source": [
        "Customize the following according to the Marketing segmentation"
      ]
    },
    {
      "cell_type": "markdown",
      "metadata": {
        "id": "seUR6Aj0p3ZQ"
      },
      "source": [
        "## STEP 10: Evaluation and Monitoring"
      ]
    },
    {
      "cell_type": "code",
      "execution_count": null,
      "metadata": {
        "id": "PdV7HZQ9qBPD"
      },
      "outputs": [],
      "source": [
        "classifier = DecisionTreeClassifier(criterion=\"entropy\")\n",
        "classifier.fit(X_train, Y_train)\n",
        "Y_pred = classifier.predict(X_test)"
      ]
    },
    {
      "cell_type": "code",
      "execution_count": null,
      "metadata": {
        "colab": {
          "base_uri": "https://localhost:8080/"
        },
        "id": "R3IdW7QRqsZD",
        "outputId": "02a7ef5b-933c-45cf-d66a-590230312093"
      },
      "outputs": [],
      "source": [
        "import pickle\n",
        "filename = 'classifier.pkl'\n",
        "pickle.dump(classifier, open(filename, 'wb'))\n",
        "\n",
        "#again loading the stored model from disk\n",
        "loaded_model = pickle.load(open(filename, 'rb'))\n",
        "result = loaded_model.score(X_test, Y_test)\n",
        "print(result*100,'% Accuracy')"
      ]
    }
  ],
  "metadata": {
    "colab": {
      "include_colab_link": true,
      "provenance": []
    },
    "kernelspec": {
      "display_name": "Python 3",
      "name": "python3"
    },
    "language_info": {
      "codemirror_mode": {
        "name": "ipython",
        "version": 3
      },
      "file_extension": ".py",
      "mimetype": "text/x-python",
      "name": "python",
      "nbconvert_exporter": "python",
      "pygments_lexer": "ipython3",
      "version": "3.11.8"
    }
  },
  "nbformat": 4,
  "nbformat_minor": 0
}
